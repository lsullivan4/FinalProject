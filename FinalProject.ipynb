{
 "cells": [
  {
   "cell_type": "markdown",
   "metadata": {},
   "source": [
    "<font size=\"8\">**Final Project**"
   ]
  },
  {
   "cell_type": "markdown",
   "metadata": {},
   "source": [
    "Liam Sullivan"
   ]
  },
  {
   "cell_type": "markdown",
   "metadata": {},
   "source": [
    "**Importing Training and Testing Data**"
   ]
  },
  {
   "cell_type": "code",
   "execution_count": 1,
   "metadata": {},
   "outputs": [],
   "source": [
    "import numpy as np\n",
    "from sklearn.ensemble import RandomForestClassifier\n",
    "import matplotlib.pyplot as plt\n",
    "import seaborn as sns; sns.set()\n",
    "import matplotlib\n",
    " \n",
    "# import the necessary packages\n",
    "from sklearn.model_selection import train_test_split\n",
    "import os\n",
    "import tkinter\n",
    "from os import listdir\n",
    "from PIL import Image"
   ]
  },
  {
   "cell_type": "code",
   "execution_count": 2,
   "metadata": {},
   "outputs": [],
   "source": [
    "# Set the resize\n",
    "dim = 50"
   ]
  },
  {
   "cell_type": "code",
   "execution_count": 3,
   "metadata": {},
   "outputs": [],
   "source": [
    "mypath = 'C:\\\\Users\\\\Liam\\\\Desktop\\\\images\\\\car'\n",
    "\n",
    "\n",
    "onlyfiles = [f for f in listdir(mypath)]\n",
    "\n",
    "img = Image.open(mypath+'\\\\'+onlyfiles[0])\n",
    "image = img.convert('RGB')\n",
    "image = image.resize((dim, dim))\n",
    "image = np.array(image)\n",
    "image = image.ravel().reshape(1,-1)\n",
    "x_train = image\n",
    "\n",
    "for imagePath in onlyfiles:\n",
    "    # load the image, pre-process it, and store it in the data list\n",
    "    img = Image.open(mypath+'\\\\'+imagePath)\n",
    "    image = img.convert('RGB')\n",
    "    image = image.resize((dim, dim))\n",
    "    image = np.array(image)\n",
    "    image = image.ravel().reshape(1,-1)\n",
    "    x_train = np.append(x_train, image, 0)\n",
    "    \n",
    "y_train = np.zeros(len(x_train))"
   ]
  },
  {
   "cell_type": "code",
   "execution_count": 4,
   "metadata": {},
   "outputs": [
    {
     "data": {
      "text/plain": [
       "(251, 7500)"
      ]
     },
     "execution_count": 4,
     "metadata": {},
     "output_type": "execute_result"
    }
   ],
   "source": [
    "x_train.shape"
   ]
  },
  {
   "cell_type": "code",
   "execution_count": 5,
   "metadata": {},
   "outputs": [],
   "source": [
    "mypath = 'C:\\\\Users\\\\Liam\\\\Desktop\\\\images\\\\truck'\n",
    "\n",
    "\n",
    "\n",
    "onlyfiles = [f for f in listdir(mypath)]\n",
    "\n",
    "img = Image.open(mypath+'\\\\'+onlyfiles[0])\n",
    "image = img.convert('RGB')\n",
    "image = image.resize((dim, dim))\n",
    "image = np.array(image)\n",
    "image = image.ravel().reshape(1,-1)\n",
    "x_train = np.append(x_train, image, 0)\n",
    "\n",
    "for imagePath in onlyfiles:\n",
    "    # load the image, pre-process it, and store it in the data list\n",
    "    img = Image.open(mypath+'\\\\'+imagePath)\n",
    "    image = img.convert('RGB')\n",
    "    image = image.resize((dim, dim))\n",
    "    image = np.array(image)\n",
    "    image = image.ravel().reshape(1,-1)\n",
    "    x_train = np.append(x_train, image, 0)\n",
    "y_train = np.append(y_train, np.ones(len(x_train)-len(y_train)))"
   ]
  },
  {
   "cell_type": "code",
   "execution_count": 6,
   "metadata": {},
   "outputs": [
    {
     "name": "stdout",
     "output_type": "stream",
     "text": [
      "(502, 7500)\n"
     ]
    },
    {
     "data": {
      "text/plain": [
       "(502,)"
      ]
     },
     "execution_count": 6,
     "metadata": {},
     "output_type": "execute_result"
    }
   ],
   "source": [
    "print(x_train.shape)\n",
    "y_train.shape"
   ]
  },
  {
   "cell_type": "code",
   "execution_count": 7,
   "metadata": {},
   "outputs": [],
   "source": [
    "mypath = 'C:\\\\Users\\\\Liam\\\\Desktop\\\\images\\\\test\\\\car'\n",
    "\n",
    "\n",
    "onlyfiles = [f for f in listdir(mypath)]\n",
    "\n",
    "img = Image.open(mypath+'\\\\'+onlyfiles[0])\n",
    "image = img.convert('RGB')\n",
    "image = image.resize((dim, dim))\n",
    "image = np.array(image)\n",
    "image = image.ravel().reshape(1,-1)\n",
    "x_test = image\n",
    "\n",
    "for imagePath in onlyfiles:\n",
    "    # load the image, pre-process it, and store it in the data list\n",
    "    img = Image.open(mypath+'\\\\'+imagePath)\n",
    "    image = img.convert('RGB')\n",
    "    image = image.resize((dim, dim))\n",
    "    image = np.array(image)\n",
    "    image = image.ravel().reshape(1,-1)\n",
    "    x_test = np.append(x_test, image, 0)\n",
    "    \n",
    "y_test = np.zeros(len(x_test))"
   ]
  },
  {
   "cell_type": "code",
   "execution_count": 8,
   "metadata": {},
   "outputs": [
    {
     "data": {
      "text/plain": [
       "(53, 7500)"
      ]
     },
     "execution_count": 8,
     "metadata": {},
     "output_type": "execute_result"
    }
   ],
   "source": [
    "x_test.shape"
   ]
  },
  {
   "cell_type": "code",
   "execution_count": 10,
   "metadata": {},
   "outputs": [],
   "source": [
    "mypath = 'C:\\\\Users\\\\Liam\\\\Desktop\\\\images\\\\test\\\\truck'\n",
    "\n",
    "\n",
    "\n",
    "onlyfiles = [f for f in listdir(mypath)]\n",
    "\n",
    "img = Image.open(mypath+'\\\\'+onlyfiles[0])\n",
    "image = img.convert('RGB')\n",
    "image = image.resize((dim, dim))\n",
    "image = np.array(image)\n",
    "image = image.ravel().reshape(1,-1)\n",
    "x_test = np.append(x_test, image, 0)\n",
    "\n",
    "for imagePath in onlyfiles:\n",
    "    # load the image, pre-process it, and store it in the data list\n",
    "    img = Image.open(mypath+'\\\\'+imagePath)\n",
    "    image = img.convert('RGB')\n",
    "    image = image.resize((dim, dim))\n",
    "    image = np.array(image)\n",
    "    image = image.ravel().reshape(1,-1)\n",
    "    x_test = np.append(x_test, image, 0)\n",
    "y_test = np.append(y_test, np.ones(len(x_test)-len(y_test)))"
   ]
  },
  {
   "cell_type": "code",
   "execution_count": 11,
   "metadata": {},
   "outputs": [
    {
     "name": "stdout",
     "output_type": "stream",
     "text": [
      "(99, 7500)\n"
     ]
    },
    {
     "data": {
      "text/plain": [
       "(99,)"
      ]
     },
     "execution_count": 11,
     "metadata": {},
     "output_type": "execute_result"
    }
   ],
   "source": [
    "print(x_test.shape)\n",
    "y_test.shape"
   ]
  },
  {
   "cell_type": "markdown",
   "metadata": {},
   "source": [
    "**Decision Tree**"
   ]
  },
  {
   "cell_type": "code",
   "execution_count": 12,
   "metadata": {},
   "outputs": [],
   "source": [
    "import pandas as pd\n",
    "import numpy as np\n",
    "from sklearn import tree\n",
    "from sklearn.tree import DecisionTreeClassifier\n",
    "from sklearn import metrics\n",
    "import warnings; warnings.simplefilter('ignore')"
   ]
  },
  {
   "cell_type": "code",
   "execution_count": 13,
   "metadata": {},
   "outputs": [
    {
     "name": "stdout",
     "output_type": "stream",
     "text": [
      "Training Accuracy: 1.0\n",
      "Testing Accuracy: 0.5353535353535354\n"
     ]
    }
   ],
   "source": [
    "# Create a decision tree and train\n",
    "model = DecisionTreeClassifier()\n",
    "model.fit(x_train, y_train)\n",
    "# Accuracry on training data\n",
    "print('Training Accuracy:', model.score(x_train, y_train))\n",
    "\n",
    "# Prediction and accuracy on testing data\n",
    "y_pred = model.predict(x_test)\n",
    "print('Testing Accuracy:', metrics.accuracy_score(y_pred, y_test))"
   ]
  },
  {
   "cell_type": "code",
   "execution_count": 14,
   "metadata": {},
   "outputs": [
    {
     "name": "stdout",
     "output_type": "stream",
     "text": [
      "Best parameters are: {'criterion': 'entropy', 'max_depth': 2}\n",
      "Training Accuracy: 0.6713147410358565\n",
      "Testing Accuracy: 0.5959595959595959\n"
     ]
    }
   ],
   "source": [
    "# Decide what hyperparameter to tune then decide the searching range\n",
    "param_grid = {'max_depth': range(1,10), 'criterion':['gini', 'entropy']}\n",
    "\n",
    "# Create a list of trees\n",
    "from sklearn.model_selection import GridSearchCV\n",
    "model = GridSearchCV(DecisionTreeClassifier(), param_grid, cv = 5)\n",
    "model.fit(x_train, y_train)\n",
    "\n",
    "# Show the best found paramters\n",
    "print('Best parameters are:', model.best_params_)\n",
    "\n",
    "# Accuracry on training data\n",
    "print('Training Accuracy:', model.score(x_train, y_train))\n",
    "\n",
    "# Prediction and accuracy on testing data\n",
    "y_pred = model.predict(x_test)\n",
    "print('Testing Accuracy:', metrics.accuracy_score(y_pred, y_test))"
   ]
  },
  {
   "cell_type": "code",
   "execution_count": 15,
   "metadata": {},
   "outputs": [],
   "source": [
    "from PIL import Image, ImageDraw\n",
    "\n",
    "mypath = 'C:\\\\Users\\\\Liam\\\\Desktop\\\\images\\\\test2'\n",
    "\n",
    "onlyfiles = [f for f in listdir(mypath)]\n",
    "\n",
    "for imagePath in onlyfiles:\n",
    "    # load the image, pre-process it, and store it in the data list\n",
    "    img = Image.open(mypath+'//'+imagePath)\n",
    "    image = img.convert('RGB')\n",
    "    image = image.resize((dim, dim))\n",
    "    image = np.array(image)\n",
    "    image = image.ravel().reshape(1,-1)\n",
    "    if (model.predict(image)==0):\n",
    "        d = ImageDraw.Draw(img)\n",
    "        d.text((10,10), \"CAR!\",(0, 0, 0))\n",
    "        #img.save('C:\\\\Users\\\\SON\\\\Dropbox\\\\git\\\\bryantstats.github.io\\\\images\\\\predict'+'\\\\'+imagePath)\n",
    "        \n",
    "        \n",
    "        img.save('C:\\\\Users\\\\Liam\\\\Desktop\\\\images\\\\pred_test\\\\decisiontree'+'\\\\'+imagePath)\n",
    "       \n",
    "    \n",
    "    else:\n",
    "        d = ImageDraw.Draw(img)\n",
    "        d.text((10,10), \"TRUCK!\",(0, 0, 0))\n",
    "        #img.save('C:\\\\Users\\\\SON\\\\Dropbox\\\\git\\\\bryantstats.github.io\\\\images\\\\predict'+'\\\\'+imagePath)\n",
    "        img.save('C:\\\\Users\\\\Liam\\\\Desktop\\\\images\\\\pred_test\\\\decisiontree'+'\\\\'+imagePath)\n",
    "        \n",
    "        "
   ]
  },
  {
   "cell_type": "markdown",
   "metadata": {},
   "source": [
    "**Gradient Boosting**"
   ]
  },
  {
   "cell_type": "code",
   "execution_count": 16,
   "metadata": {},
   "outputs": [
    {
     "data": {
      "text/plain": [
       "GradientBoostingClassifier(criterion='friedman_mse', init=None,\n",
       "              learning_rate=0.1, loss='deviance', max_depth=3,\n",
       "              max_features=None, max_leaf_nodes=None,\n",
       "              min_impurity_decrease=0.0, min_impurity_split=None,\n",
       "              min_samples_leaf=1, min_samples_split=2,\n",
       "              min_weight_fraction_leaf=0.0, n_estimators=100,\n",
       "              n_iter_no_change=None, presort='auto', random_state=None,\n",
       "              subsample=1.0, tol=0.0001, validation_fraction=0.1,\n",
       "              verbose=0, warm_start=False)"
      ]
     },
     "execution_count": 16,
     "metadata": {},
     "output_type": "execute_result"
    }
   ],
   "source": [
    "from sklearn.ensemble import GradientBoostingClassifier\n",
    "model = GradientBoostingClassifier()\n",
    "model.fit(x_train, y_train)"
   ]
  },
  {
   "cell_type": "code",
   "execution_count": 17,
   "metadata": {},
   "outputs": [
    {
     "data": {
      "text/plain": [
       "GridSearchCV(cv=3, error_score='raise-deprecating',\n",
       "       estimator=GradientBoostingClassifier(criterion='friedman_mse', init=None,\n",
       "              learning_rate=0.1, loss='deviance', max_depth=3,\n",
       "              max_features=None, max_leaf_nodes=None,\n",
       "              min_impurity_decrease=0.0, min_impurity_split=None,\n",
       "              min_samples_leaf=1, min_sampl...      subsample=1.0, tol=0.0001, validation_fraction=0.1,\n",
       "              verbose=0, warm_start=False),\n",
       "       fit_params=None, iid='warn', n_jobs=None,\n",
       "       param_grid={'n_estimators': array([10, 12, 14]), 'learning_rate': array([0.001 , 0.5005, 1.    ])},\n",
       "       pre_dispatch='2*n_jobs', refit=True, return_train_score='warn',\n",
       "       scoring=None, verbose=0)"
      ]
     },
     "execution_count": 17,
     "metadata": {},
     "output_type": "execute_result"
    }
   ],
   "source": [
    "# Decide what hyperparameter to tune then decide the searching range\n",
    "param_grid = {'n_estimators': np.arange(10,15, 2), 'learning_rate':np.linspace(0.001,1,3)}\n",
    "\n",
    "from sklearn.model_selection import GridSearchCV\n",
    "model = GridSearchCV(GradientBoostingClassifier(), param_grid, cv = 3)\n",
    "model.fit(x_train, y_train)"
   ]
  },
  {
   "cell_type": "code",
   "execution_count": 18,
   "metadata": {},
   "outputs": [
    {
     "data": {
      "text/plain": [
       "array([[251,   0],\n",
       "       [  0, 251]], dtype=int64)"
      ]
     },
     "execution_count": 18,
     "metadata": {},
     "output_type": "execute_result"
    }
   ],
   "source": [
    "ypred=model.predict(x_train)\n",
    "from sklearn.metrics import confusion_matrix\n",
    "mat = confusion_matrix(ypred, y_train)\n",
    "mat"
   ]
  },
  {
   "cell_type": "code",
   "execution_count": 19,
   "metadata": {},
   "outputs": [
    {
     "name": "stdout",
     "output_type": "stream",
     "text": [
      "Best parameters are: {'learning_rate': 1.0, 'n_estimators': 14}\n"
     ]
    }
   ],
   "source": [
    "print('Best parameters are:', model.best_params_)"
   ]
  },
  {
   "cell_type": "code",
   "execution_count": 20,
   "metadata": {},
   "outputs": [
    {
     "name": "stdout",
     "output_type": "stream",
     "text": [
      "Testing Accuracy: 0.5656565656565656\n"
     ]
    }
   ],
   "source": [
    "# Prediction and accuracy on testing data\n",
    "y_pred = model.predict(x_test)\n",
    "print('Testing Accuracy:', metrics.accuracy_score(y_pred, y_test))"
   ]
  },
  {
   "cell_type": "code",
   "execution_count": 21,
   "metadata": {},
   "outputs": [],
   "source": [
    "from PIL import Image, ImageDraw\n",
    "\n",
    "mypath = 'C:\\\\Users\\\\Liam\\\\Desktop\\\\images\\\\test2'\n",
    "\n",
    "onlyfiles = [f for f in listdir(mypath)]\n",
    "\n",
    "for imagePath in onlyfiles:\n",
    "    # load the image, pre-process it, and store it in the data list\n",
    "    img = Image.open(mypath+'//'+imagePath)\n",
    "    image = img.convert('RGB')\n",
    "    image = image.resize((dim, dim))\n",
    "    image = np.array(image)\n",
    "    image = image.ravel().reshape(1,-1)\n",
    "    if (model.predict(image)==0):\n",
    "        d = ImageDraw.Draw(img)\n",
    "        d.text((10,10), \"CAR!\",(0, 0, 0))\n",
    "        #img.save('C:\\\\Users\\\\SON\\\\Dropbox\\\\git\\\\bryantstats.github.io\\\\images\\\\predict'+'\\\\'+imagePath)\n",
    "        \n",
    "        \n",
    "        img.save('C:\\\\Users\\\\Liam\\\\Desktop\\\\images\\\\pred_test\\\\gradientboosting'+'\\\\'+imagePath)\n",
    "       \n",
    "    \n",
    "    else:\n",
    "        d = ImageDraw.Draw(img)\n",
    "        d.text((10,10), \"TRUCK!\",(0, 0, 0))\n",
    "        #img.save('C:\\\\Users\\\\SON\\\\Dropbox\\\\git\\\\bryantstats.github.io\\\\images\\\\predict'+'\\\\'+imagePath)\n",
    "        img.save('C:\\\\Users\\\\Liam\\\\Desktop\\\\images\\\\pred_test\\\\gradientboosting'+'\\\\'+imagePath)\n",
    "        \n",
    "        "
   ]
  },
  {
   "cell_type": "markdown",
   "metadata": {},
   "source": [
    "**Random Forest**"
   ]
  },
  {
   "cell_type": "code",
   "execution_count": 22,
   "metadata": {},
   "outputs": [
    {
     "name": "stdout",
     "output_type": "stream",
     "text": [
      "Training Accuracy: 0.9840637450199203\n",
      "Testing Accuracy: 0.6363636363636364\n"
     ]
    }
   ],
   "source": [
    "from sklearn.ensemble import RandomForestClassifier\n",
    "\n",
    "model = RandomForestClassifier()\n",
    "model.fit(x_train, y_train)\n",
    "# Accuracry on training data\n",
    "print('Training Accuracy:', model.score(x_train, y_train))\n",
    "\n",
    "# Prediction and accuracy on testing data\n",
    "y_pred = model.predict(x_test)\n",
    "print('Testing Accuracy:', metrics.accuracy_score(y_pred, y_test))"
   ]
  },
  {
   "cell_type": "code",
   "execution_count": 23,
   "metadata": {},
   "outputs": [
    {
     "name": "stdout",
     "output_type": "stream",
     "text": [
      "Best parameters are: {'max_features': 3, 'n_estimators': 14}\n",
      "Training Accuracy: 0.99800796812749\n",
      "Testing Accuracy: 0.6363636363636364\n"
     ]
    }
   ],
   "source": [
    "# Decide what hyperparameter to tune then decide the searching range\n",
    "param_grid = {'n_estimators': np.arange(2,20, 2), 'max_features':np.arange(2,5)}\n",
    "\n",
    "from sklearn.model_selection import GridSearchCV\n",
    "model = GridSearchCV(RandomForestClassifier(), param_grid, cv = 5)\n",
    "model.fit(x_train, y_train)\n",
    "\n",
    "# Show the best found paramters\n",
    "print('Best parameters are:', model.best_params_)\n",
    "\n",
    "# Accuracry on training data\n",
    "print('Training Accuracy:', model.score(x_train, y_train))\n",
    "\n",
    "# Prediction and accuracy on testing data\n",
    "y_pred = model.predict(x_test)\n",
    "print('Testing Accuracy:', metrics.accuracy_score(y_pred, y_test))"
   ]
  },
  {
   "cell_type": "code",
   "execution_count": 24,
   "metadata": {},
   "outputs": [],
   "source": [
    "from PIL import Image, ImageDraw\n",
    "\n",
    "mypath = 'C:\\\\Users\\\\Liam\\\\Desktop\\\\images\\\\test2'\n",
    "\n",
    "onlyfiles = [f for f in listdir(mypath)]\n",
    "\n",
    "for imagePath in onlyfiles:\n",
    "    # load the image, pre-process it, and store it in the data list\n",
    "    img = Image.open(mypath+'//'+imagePath)\n",
    "    image = img.convert('RGB')\n",
    "    image = image.resize((dim, dim))\n",
    "    image = np.array(image)\n",
    "    image = image.ravel().reshape(1,-1)\n",
    "    if (model.predict(image)==0):\n",
    "        d = ImageDraw.Draw(img)\n",
    "        d.text((10,10), \"CAR!\",(0, 0, 0))\n",
    "        #img.save('C:\\\\Users\\\\SON\\\\Dropbox\\\\git\\\\bryantstats.github.io\\\\images\\\\predict'+'\\\\'+imagePath)\n",
    "        \n",
    "        \n",
    "        img.save('C:\\\\Users\\\\Liam\\\\Desktop\\\\images\\\\pred_test\\\\randomforest'+'\\\\'+imagePath)\n",
    "       \n",
    "    \n",
    "    else:\n",
    "        d = ImageDraw.Draw(img)\n",
    "        d.text((10,10), \"TRUCK!\",(0, 0, 0))\n",
    "        #img.save('C:\\\\Users\\\\SON\\\\Dropbox\\\\git\\\\bryantstats.github.io\\\\images\\\\predict'+'\\\\'+imagePath)\n",
    "        img.save('C:\\\\Users\\\\Liam\\\\Desktop\\\\images\\\\pred_test\\\\randomforest'+'\\\\'+imagePath)\n",
    "        \n",
    "        "
   ]
  },
  {
   "cell_type": "markdown",
   "metadata": {},
   "source": [
    "**Adaboost**"
   ]
  },
  {
   "cell_type": "code",
   "execution_count": 25,
   "metadata": {},
   "outputs": [
    {
     "name": "stdout",
     "output_type": "stream",
     "text": [
      "Training Accuracy: 0.9920318725099602\n",
      "Testing Accuracy: 0.6060606060606061\n"
     ]
    }
   ],
   "source": [
    "from sklearn.ensemble import AdaBoostClassifier\n",
    "\n",
    "model = AdaBoostClassifier()\n",
    "model.fit(x_train, y_train)\n",
    "# Accuracry on training data\n",
    "print('Training Accuracy:', model.score(x_train, y_train))\n",
    "\n",
    "# Prediction and accuracy on testing data\n",
    "y_pred = model.predict(x_test)\n",
    "print('Testing Accuracy:', metrics.accuracy_score(y_pred, y_test))"
   ]
  },
  {
   "cell_type": "code",
   "execution_count": 26,
   "metadata": {},
   "outputs": [
    {
     "name": "stdout",
     "output_type": "stream",
     "text": [
      "Best parameters are: {'learning_rate': 1.0, 'n_estimators': 17}\n",
      "Training Accuracy: 0.8286852589641435\n",
      "Testing Accuracy: 0.6161616161616161\n"
     ]
    }
   ],
   "source": [
    "# Decide what hyperparameter to tune then decide the searching range\n",
    "param_grid = {'n_estimators': np.arange(5,20, 2), 'learning_rate':np.linspace(0.001,1,5)}\n",
    "\n",
    "from sklearn.model_selection import GridSearchCV\n",
    "model = GridSearchCV(AdaBoostClassifier(), param_grid, cv = 5)\n",
    "model.fit(x_train, y_train)\n",
    "\n",
    "# Show the best found paramters\n",
    "print('Best parameters are:', model.best_params_)\n",
    "\n",
    "# Accuracry on training data\n",
    "print('Training Accuracy:', model.score(x_train, y_train))\n",
    "\n",
    "# Prediction and accuracy on testing data\n",
    "y_pred = model.predict(x_test)\n",
    "print('Testing Accuracy:', metrics.accuracy_score(y_pred, y_test))"
   ]
  },
  {
   "cell_type": "code",
   "execution_count": 27,
   "metadata": {},
   "outputs": [],
   "source": [
    "from PIL import Image, ImageDraw\n",
    "\n",
    "mypath = 'C:\\\\Users\\\\Liam\\\\Desktop\\\\images\\\\test2'\n",
    "\n",
    "onlyfiles = [f for f in listdir(mypath)]\n",
    "\n",
    "for imagePath in onlyfiles:\n",
    "    # load the image, pre-process it, and store it in the data list\n",
    "    img = Image.open(mypath+'//'+imagePath)\n",
    "    image = img.convert('RGB')\n",
    "    image = image.resize((dim, dim))\n",
    "    image = np.array(image)\n",
    "    image = image.ravel().reshape(1,-1)\n",
    "    if (model.predict(image)==0):\n",
    "        d = ImageDraw.Draw(img)\n",
    "        d.text((10,10), \"CAR!\",(0, 0, 0))\n",
    "        #img.save('C:\\\\Users\\\\SON\\\\Dropbox\\\\git\\\\bryantstats.github.io\\\\images\\\\predict'+'\\\\'+imagePath)\n",
    "        \n",
    "        \n",
    "        img.save('C:\\\\Users\\\\Liam\\\\Desktop\\\\images\\\\pred_test\\\\adaboost'+'\\\\'+imagePath)\n",
    "       \n",
    "    \n",
    "    else:\n",
    "        d = ImageDraw.Draw(img)\n",
    "        d.text((10,10), \"TRUCK!\",(0, 0, 0))\n",
    "        #img.save('C:\\\\Users\\\\SON\\\\Dropbox\\\\git\\\\bryantstats.github.io\\\\images\\\\predict'+'\\\\'+imagePath)\n",
    "        img.save('C:\\\\Users\\\\Liam\\\\Desktop\\\\images\\\\pred_test\\\\adaboost'+'\\\\'+imagePath)\n",
    "        \n",
    "        "
   ]
  },
  {
   "cell_type": "markdown",
   "metadata": {},
   "source": [
    "**Logistic Regression**"
   ]
  },
  {
   "cell_type": "code",
   "execution_count": 28,
   "metadata": {},
   "outputs": [
    {
     "name": "stdout",
     "output_type": "stream",
     "text": [
      "Training Accuracy: 1.0\n",
      "Testing Accuracy: 0.5757575757575758\n"
     ]
    }
   ],
   "source": [
    "from sklearn.linear_model import LogisticRegression\n",
    "model = LogisticRegression()\n",
    "model.fit(x_train, y_train)\n",
    "# Accuracry on training data\n",
    "print('Training Accuracy:', model.score(x_train, y_train))\n",
    "\n",
    "# Prediction and accuracy on testing data\n",
    "y_pred = model.predict(x_test)\n",
    "print('Testing Accuracy:', metrics.accuracy_score(y_pred, y_test))"
   ]
  },
  {
   "cell_type": "code",
   "execution_count": 29,
   "metadata": {},
   "outputs": [],
   "source": [
    "from PIL import Image, ImageDraw\n",
    "\n",
    "mypath = 'C:\\\\Users\\\\Liam\\\\Desktop\\\\images\\\\test2'\n",
    "\n",
    "onlyfiles = [f for f in listdir(mypath)]\n",
    "\n",
    "for imagePath in onlyfiles:\n",
    "    # load the image, pre-process it, and store it in the data list\n",
    "    img = Image.open(mypath+'//'+imagePath)\n",
    "    image = img.convert('RGB')\n",
    "    image = image.resize((dim, dim))\n",
    "    image = np.array(image)\n",
    "    image = image.ravel().reshape(1,-1)\n",
    "    if (model.predict(image)==0):\n",
    "        d = ImageDraw.Draw(img)\n",
    "        d.text((10,10), \"CAR!\",(0, 0, 0))\n",
    "        #img.save('C:\\\\Users\\\\SON\\\\Dropbox\\\\git\\\\bryantstats.github.io\\\\images\\\\predict'+'\\\\'+imagePath)\n",
    "        \n",
    "        \n",
    "        img.save('C:\\\\Users\\\\Liam\\\\Desktop\\\\images\\\\pred_test\\\\logisticregression'+'\\\\'+imagePath)\n",
    "       \n",
    "    \n",
    "    else:\n",
    "        d = ImageDraw.Draw(img)\n",
    "        d.text((10,10), \"TRUCK!\",(0, 0, 0))\n",
    "        #img.save('C:\\\\Users\\\\SON\\\\Dropbox\\\\git\\\\bryantstats.github.io\\\\images\\\\predict'+'\\\\'+imagePath)\n",
    "        img.save('C:\\\\Users\\\\Liam\\\\Desktop\\\\images\\\\pred_test\\\\logisticregression'+'\\\\'+imagePath)\n",
    "        \n",
    "        "
   ]
  },
  {
   "cell_type": "markdown",
   "metadata": {},
   "source": [
    "**ElasticNet**"
   ]
  },
  {
   "cell_type": "code",
   "execution_count": 30,
   "metadata": {},
   "outputs": [
    {
     "name": "stdout",
     "output_type": "stream",
     "text": [
      "Training Accuracy: 0.8705179282868526\n",
      "Testing Accuracy: 0.5757575757575758\n"
     ]
    }
   ],
   "source": [
    "from sklearn.linear_model import SGDClassifier\n",
    "model = SGDClassifier(loss='log', penalty='elasticnet', alpha=1, l1_ratio=.1)\n",
    "\n",
    "model.fit(x_train, y_train)\n",
    "# Accuracry on training data\n",
    "print('Training Accuracy:', model.score(x_train, y_train))\n",
    "\n",
    "# Prediction and accuracy on testing data\n",
    "y_pred = model.predict(x_test)\n",
    "print('Testing Accuracy:', metrics.accuracy_score(y_pred, y_test))"
   ]
  },
  {
   "cell_type": "code",
   "execution_count": 31,
   "metadata": {},
   "outputs": [
    {
     "name": "stdout",
     "output_type": "stream",
     "text": [
      "Best parameters are: {'alpha': 0.1, 'l1_ratio': 0.6666666666666666}\n",
      "Training Accuracy: 0.8306772908366534\n",
      "Testing Accuracy: 0.5757575757575758\n"
     ]
    }
   ],
   "source": [
    "# Decide what hyperparameter to tune then decide the searching range\n",
    "param_grid = {'alpha':np.linspace(0.1,10, 10), 'l1_ratio':np.linspace(0,1,10)}\n",
    "\n",
    "from sklearn.model_selection import GridSearchCV\n",
    "model = GridSearchCV(SGDClassifier(loss='log', penalty='elasticnet'), param_grid, cv = 5)\n",
    "model.fit(x_train, y_train)\n",
    "\n",
    "# Show the best found paramters\n",
    "print('Best parameters are:', model.best_params_)\n",
    "\n",
    "# Accuracry on training data\n",
    "print('Training Accuracy:', model.score(x_train, y_train))\n",
    "\n",
    "# Prediction and accuracy on testing data\n",
    "y_pred = model.predict(x_test)\n",
    "print('Testing Accuracy:', metrics.accuracy_score(y_pred, y_test))"
   ]
  },
  {
   "cell_type": "code",
   "execution_count": 32,
   "metadata": {},
   "outputs": [],
   "source": [
    "from PIL import Image, ImageDraw\n",
    "\n",
    "mypath = 'C:\\\\Users\\\\Liam\\\\Desktop\\\\images\\\\test2'\n",
    "\n",
    "onlyfiles = [f for f in listdir(mypath)]\n",
    "\n",
    "for imagePath in onlyfiles:\n",
    "    # load the image, pre-process it, and store it in the data list\n",
    "    img = Image.open(mypath+'//'+imagePath)\n",
    "    image = img.convert('RGB')\n",
    "    image = image.resize((dim, dim))\n",
    "    image = np.array(image)\n",
    "    image = image.ravel().reshape(1,-1)\n",
    "    if (model.predict(image)==0):\n",
    "        d = ImageDraw.Draw(img)\n",
    "        d.text((10,10), \"CAR!\",(0, 0, 0))\n",
    "        #img.save('C:\\\\Users\\\\SON\\\\Dropbox\\\\git\\\\bryantstats.github.io\\\\images\\\\predict'+'\\\\'+imagePath)\n",
    "        \n",
    "        \n",
    "        img.save('C:\\\\Users\\\\Liam\\\\Desktop\\\\images\\\\pred_test\\\\elasticnet'+'\\\\'+imagePath)\n",
    "       \n",
    "    \n",
    "    else:\n",
    "        d = ImageDraw.Draw(img)\n",
    "        d.text((10,10), \"TRUCK!\",(0, 0, 0))\n",
    "        #img.save('C:\\\\Users\\\\SON\\\\Dropbox\\\\git\\\\bryantstats.github.io\\\\images\\\\predict'+'\\\\'+imagePath)\n",
    "        img.save('C:\\\\Users\\\\Liam\\\\Desktop\\\\images\\\\pred_test\\\\elasticnet'+'\\\\'+imagePath)\n",
    "        \n",
    "        "
   ]
  },
  {
   "cell_type": "markdown",
   "metadata": {},
   "source": [
    "**K-Nearest Neighbors**"
   ]
  },
  {
   "cell_type": "code",
   "execution_count": 33,
   "metadata": {},
   "outputs": [
    {
     "name": "stdout",
     "output_type": "stream",
     "text": [
      "Training Accuracy: 0.7270916334661355\n",
      "Testing Accuracy: 0.6161616161616161\n"
     ]
    }
   ],
   "source": [
    "from sklearn.neighbors import KNeighborsClassifier\n",
    "model = KNeighborsClassifier()\n",
    "model.fit(x_train, y_train)\n",
    "# Accuracry on training data\n",
    "print('Training Accuracy:', model.score(x_train, y_train))\n",
    "\n",
    "# Prediction and accuracy on testing data\n",
    "y_pred = model.predict(x_test)\n",
    "print('Testing Accuracy:', metrics.accuracy_score(y_pred, y_test))"
   ]
  },
  {
   "cell_type": "code",
   "execution_count": 34,
   "metadata": {},
   "outputs": [
    {
     "name": "stdout",
     "output_type": "stream",
     "text": [
      "Best parameters are: {'n_neighbors': 14}\n",
      "Training Accuracy: 0.6733067729083665\n",
      "Testing Accuracy: 0.5353535353535354\n"
     ]
    }
   ],
   "source": [
    "# Decide what hyperparameter to tune then decide the searching range\n",
    "param_grid = {'n_neighbors': np.arange(2,20, 2)}\n",
    "\n",
    "from sklearn.model_selection import GridSearchCV\n",
    "model = GridSearchCV(KNeighborsClassifier(), param_grid, cv = 5)\n",
    "model.fit(x_train, y_train)\n",
    "\n",
    "# Show the best found paramters\n",
    "print('Best parameters are:', model.best_params_)\n",
    "\n",
    "# Accuracry on training data\n",
    "print('Training Accuracy:', model.score(x_train, y_train))\n",
    "\n",
    "# Prediction and accuracy on testing data\n",
    "y_pred = model.predict(x_test)\n",
    "print('Testing Accuracy:', metrics.accuracy_score(y_pred, y_test))"
   ]
  },
  {
   "cell_type": "code",
   "execution_count": 35,
   "metadata": {},
   "outputs": [],
   "source": [
    "from PIL import Image, ImageDraw\n",
    "\n",
    "mypath = 'C:\\\\Users\\\\Liam\\\\Desktop\\\\images\\\\test2'\n",
    "\n",
    "onlyfiles = [f for f in listdir(mypath)]\n",
    "\n",
    "for imagePath in onlyfiles:\n",
    "    # load the image, pre-process it, and store it in the data list\n",
    "    img = Image.open(mypath+'//'+imagePath)\n",
    "    image = img.convert('RGB')\n",
    "    image = image.resize((dim, dim))\n",
    "    image = np.array(image)\n",
    "    image = image.ravel().reshape(1,-1)\n",
    "    if (model.predict(image)==0):\n",
    "        d = ImageDraw.Draw(img)\n",
    "        d.text((10,10), \"CAR!\",(0, 0, 0))\n",
    "        #img.save('C:\\\\Users\\\\SON\\\\Dropbox\\\\git\\\\bryantstats.github.io\\\\images\\\\predict'+'\\\\'+imagePath)\n",
    "        \n",
    "        \n",
    "        img.save('C:\\\\Users\\\\Liam\\\\Desktop\\\\images\\\\pred_test\\\\knn'+'\\\\'+imagePath)\n",
    "       \n",
    "    \n",
    "    else:\n",
    "        d = ImageDraw.Draw(img)\n",
    "        d.text((10,10), \"TRUCK!\",(0, 0, 0))\n",
    "        #img.save('C:\\\\Users\\\\SON\\\\Dropbox\\\\git\\\\bryantstats.github.io\\\\images\\\\predict'+'\\\\'+imagePath)\n",
    "        img.save('C:\\\\Users\\\\Liam\\\\Desktop\\\\images\\\\pred_test\\\\knn'+'\\\\'+imagePath)\n",
    "        \n",
    "        "
   ]
  },
  {
   "cell_type": "markdown",
   "metadata": {},
   "source": [
    "**Naive Bayes**"
   ]
  },
  {
   "cell_type": "code",
   "execution_count": 36,
   "metadata": {},
   "outputs": [],
   "source": [
    "import numpy as np\n",
    "import pandas as pd\n",
    "import sklearn\n",
    "import sklearn.model_selection as ms\n",
    "import sklearn.feature_extraction.text as text\n",
    "import sklearn.naive_bayes as nb\n",
    "import matplotlib.pyplot as plt\n",
    "from sklearn.naive_bayes import GaussianNB\n",
    "from sklearn.naive_bayes import BernoulliNB\n",
    "from sklearn.ensemble import RandomForestClassifier\n",
    "from sklearn.feature_extraction.text import CountVectorizer\n",
    "from sklearn.naive_bayes import MultinomialNB"
   ]
  },
  {
   "cell_type": "code",
   "execution_count": 37,
   "metadata": {},
   "outputs": [
    {
     "data": {
      "text/plain": [
       "0.5656565656565656"
      ]
     },
     "execution_count": 37,
     "metadata": {},
     "output_type": "execute_result"
    }
   ],
   "source": [
    "model = MultinomialNB()\n",
    "model.fit(x_train, y_train)\n",
    "model.score(x_test, y_test)"
   ]
  },
  {
   "cell_type": "code",
   "execution_count": 38,
   "metadata": {},
   "outputs": [],
   "source": [
    "from PIL import Image, ImageDraw\n",
    "\n",
    "mypath = 'C:\\\\Users\\\\Liam\\\\Desktop\\\\images\\\\test2'\n",
    "\n",
    "onlyfiles = [f for f in listdir(mypath)]\n",
    "\n",
    "for imagePath in onlyfiles:\n",
    "    # load the image, pre-process it, and store it in the data list\n",
    "    img = Image.open(mypath+'//'+imagePath)\n",
    "    image = img.convert('RGB')\n",
    "    image = image.resize((dim, dim))\n",
    "    image = np.array(image)\n",
    "    image = image.ravel().reshape(1,-1)\n",
    "    if (model.predict(image)==0):\n",
    "        d = ImageDraw.Draw(img)\n",
    "        d.text((10,10), \"CAR!\",(0, 0, 0))\n",
    "        #img.save('C:\\\\Users\\\\SON\\\\Dropbox\\\\git\\\\bryantstats.github.io\\\\images\\\\predict'+'\\\\'+imagePath)\n",
    "        \n",
    "        \n",
    "        img.save('C:\\\\Users\\\\Liam\\\\Desktop\\\\images\\\\pred_test\\\\naivebayes'+'\\\\'+imagePath)\n",
    "       \n",
    "    \n",
    "    else:\n",
    "        d = ImageDraw.Draw(img)\n",
    "        d.text((10,10), \"TRUCK!\",(0, 0, 0))\n",
    "        #img.save('C:\\\\Users\\\\SON\\\\Dropbox\\\\git\\\\bryantstats.github.io\\\\images\\\\predict'+'\\\\'+imagePath)\n",
    "        img.save('C:\\\\Users\\\\Liam\\\\Desktop\\\\images\\\\pred_test\\\\naivebayes'+'\\\\'+imagePath)\n",
    "        \n",
    "        "
   ]
  },
  {
   "cell_type": "code",
   "execution_count": null,
   "metadata": {},
   "outputs": [],
   "source": []
  }
 ],
 "metadata": {
  "kernelspec": {
   "display_name": "Python 3",
   "language": "python",
   "name": "python3"
  },
  "language_info": {
   "codemirror_mode": {
    "name": "ipython",
    "version": 3
   },
   "file_extension": ".py",
   "mimetype": "text/x-python",
   "name": "python",
   "nbconvert_exporter": "python",
   "pygments_lexer": "ipython3",
   "version": "3.7.1"
  }
 },
 "nbformat": 4,
 "nbformat_minor": 2
}
